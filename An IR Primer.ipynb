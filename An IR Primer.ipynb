{
 "cells": [
  {
   "cell_type": "code",
   "execution_count": 6,
   "metadata": {
    "collapsed": false,
    "slideshow": {
     "slide_type": "skip"
    }
   },
   "outputs": [],
   "source": [
    "from IPython.display import display\n",
    "from irprimer import Planck, Temperatures, slides"
   ]
  },
  {
   "cell_type": "markdown",
   "metadata": {
    "slideshow": {
     "slide_type": "slide"
    }
   },
   "source": [
    "# An IR Primer\n",
    "- Temperatures\n",
    "- Wavelengths\n",
    "- Planck's Law\n",
    "- Refraction\n",
    "- Fresnel\n",
    "- Temperature & Density"
   ]
  },
  {
   "cell_type": "markdown",
   "metadata": {
    "slideshow": {
     "slide_type": "slide"
    }
   },
   "source": [
    "# Temperatures"
   ]
  },
  {
   "cell_type": "code",
   "execution_count": 7,
   "metadata": {
    "collapsed": false,
    "slideshow": {
     "slide_type": "subslide"
    }
   },
   "outputs": [
    {
     "data": {
      "text/html": [
       "\n",
       "            <style>@import url(\"./dist/temperatures.css\");</style>\n",
       "            <div id=\"temperatures-7370840126475908\"></div>\n",
       "            <script>\n",
       "                require(\n",
       "                    [\n",
       "                        \"./dist/temperatures.js\",\n",
       "                        \"./dist/ipython-explanation.js\",\n",
       "                        \"./dist/bower_components/d3/d3.min.js\",\n",
       "                        \"jquery\"\n",
       "                    ],\n",
       "                    function(Explanation, Loader, d3, $){{\n",
       "                        Loader(\"temperatures-7370840126475908\", Explanation, d3, $);\n",
       "                    }}\n",
       "                );\n",
       "            </script>\n",
       "        "
      ],
      "text/plain": [
       "<irprimer.Temperatures at 0x7ffc2832d128>"
      ]
     },
     "execution_count": 7,
     "metadata": {},
     "output_type": "execute_result"
    }
   ],
   "source": [
    "Temperatures()"
   ]
  },
  {
   "cell_type": "markdown",
   "metadata": {
    "slideshow": {
     "slide_type": "slide"
    }
   },
   "source": [
    "# Wavelengths"
   ]
  },
  {
   "cell_type": "markdown",
   "metadata": {
    "slideshow": {
     "slide_type": "slide"
    }
   },
   "source": [
    "# Planck's Law\n",
    "\n",
    "The EM modes exist with only discrete energies that are multiples of $hv$, where $h$ is Planck's constant and $v$ is frequency.\n",
    "\n",
    "> $$\n",
    "I(\\lambda,T) =\n",
    "\\frac{2 hc^2}{\\lambda^5}\\frac{1}{ e^{\\frac{hc}{\\lambda kT}}-1}\n",
    "$$\n",
    "\n",
    "# Wien's Law\n",
    "\n",
    "It can be shown that the wavelength maximum for any temperature is\n",
    "\n",
    "> $${\\lambda{max}}{\\cdot}{T}=2898{\\mu}m-K$$"
   ]
  },
  {
   "cell_type": "code",
   "execution_count": 8,
   "metadata": {
    "collapsed": false,
    "slideshow": {
     "slide_type": "subslide"
    }
   },
   "outputs": [
    {
     "data": {
      "text/html": [
       "\n",
       "            <style>@import url(\"./dist/planck.css\");</style>\n",
       "            <div id=\"planck-9992214843878819\"></div>\n",
       "            <script>\n",
       "                require(\n",
       "                    [\n",
       "                        \"./dist/planck.js\",\n",
       "                        \"./dist/ipython-explanation.js\",\n",
       "                        \"./dist/bower_components/d3/d3.min.js\",\n",
       "                        \"jquery\"\n",
       "                    ],\n",
       "                    function(Explanation, Loader, d3, $){{\n",
       "                        Loader(\"planck-9992214843878819\", Explanation, d3, $);\n",
       "                    }}\n",
       "                );\n",
       "            </script>\n",
       "        "
      ],
      "text/plain": [
       "<irprimer.Planck at 0x7ffc2832d390>"
      ]
     },
     "execution_count": 8,
     "metadata": {},
     "output_type": "execute_result"
    }
   ],
   "source": [
    "Planck()"
   ]
  },
  {
   "cell_type": "markdown",
   "metadata": {
    "slideshow": {
     "slide_type": "slide"
    }
   },
   "source": [
    "# Refraction"
   ]
  },
  {
   "cell_type": "markdown",
   "metadata": {
    "slideshow": {
     "slide_type": "slide"
    }
   },
   "source": [
    "# Fresnel"
   ]
  },
  {
   "cell_type": "markdown",
   "metadata": {
    "slideshow": {
     "slide_type": "slide"
    }
   },
   "source": [
    "# Temperature & Density"
   ]
  },
  {
   "cell_type": "code",
   "execution_count": 9,
   "metadata": {
    "collapsed": false,
    "slideshow": {
     "slide_type": "skip"
    }
   },
   "outputs": [],
   "source": [
    "slides()"
   ]
  }
 ],
 "metadata": {
  "celltoolbar": "Slideshow",
  "kernelspec": {
   "display_name": "Python 3",
   "language": "python",
   "name": "python3"
  },
  "language_info": {
   "codemirror_mode": {
    "name": "ipython",
    "version": 3
   },
   "file_extension": ".py",
   "mimetype": "text/x-python",
   "name": "python",
   "nbconvert_exporter": "python",
   "pygments_lexer": "ipython3",
   "version": "3.4.2"
  }
 },
 "nbformat": 4,
 "nbformat_minor": 0
}
