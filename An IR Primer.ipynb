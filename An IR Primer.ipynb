{
 "cells": [
  {
   "cell_type": "code",
   "execution_count": 1,
   "metadata": {
    "collapsed": false,
    "slideshow": {
     "slide_type": "skip"
    }
   },
   "outputs": [],
   "source": [
    "from IPython.display import display\n",
    "from irprimer import *"
   ]
  },
  {
   "cell_type": "markdown",
   "metadata": {
    "slideshow": {
     "slide_type": "slide"
    }
   },
   "source": [
    "# An IR Primer\n",
    "- Temperatures\n",
    "- Wavelengths\n",
    "- Planck's Law\n",
    "- Refraction\n",
    "- Fresnel\n",
    "- Temperature & Density"
   ]
  },
  {
   "cell_type": "markdown",
   "metadata": {
    "slideshow": {
     "slide_type": "slide"
    }
   },
   "source": [
    "# Temperatures"
   ]
  },
  {
   "cell_type": "code",
   "execution_count": 2,
   "metadata": {
    "collapsed": false,
    "slideshow": {
     "slide_type": "subslide"
    }
   },
   "outputs": [
    {
     "data": {
      "text/html": [
       "\n",
       "            <style>@import url(\"./dist/temperatures.css\");</style>\n",
       "            <div id=\"temperatures-9641819199560662\"></div>\n",
       "            <script>\n",
       "                require(\n",
       "                    [\n",
       "                        \"./dist/temperatures.js\",\n",
       "                        \"./dist/ipython-explanation.js\",\n",
       "                        \"./dist/bower_components/d3/d3.min.js\",\n",
       "                        \"jquery\"\n",
       "                    ],\n",
       "                    function(Explanation, Loader, d3, $){{\n",
       "                        Loader(\"temperatures-9641819199560662\", Explanation, d3, $);\n",
       "                    }}\n",
       "                );\n",
       "            </script>\n",
       "        "
      ],
      "text/plain": [
       "<irprimer.Temperatures at 0x7fa71c17bf98>"
      ]
     },
     "execution_count": 2,
     "metadata": {},
     "output_type": "execute_result"
    }
   ],
   "source": [
    "Temperatures()"
   ]
  },
  {
   "cell_type": "markdown",
   "metadata": {
    "slideshow": {
     "slide_type": "slide"
    }
   },
   "source": [
    "# Wavelengths"
   ]
  },
  {
   "cell_type": "code",
   "execution_count": 3,
   "metadata": {
    "collapsed": false,
    "slideshow": {
     "slide_type": "subslide"
    }
   },
   "outputs": [
    {
     "data": {
      "text/html": [
       "\n",
       "            <style>@import url(\"./dist/wavelengths.css\");</style>\n",
       "            <div id=\"wavelengths-7977302143243334\"></div>\n",
       "            <script>\n",
       "                require(\n",
       "                    [\n",
       "                        \"./dist/wavelengths.js\",\n",
       "                        \"./dist/ipython-explanation.js\",\n",
       "                        \"./dist/bower_components/d3/d3.min.js\",\n",
       "                        \"jquery\"\n",
       "                    ],\n",
       "                    function(Explanation, Loader, d3, $){{\n",
       "                        Loader(\"wavelengths-7977302143243334\", Explanation, d3, $);\n",
       "                    }}\n",
       "                );\n",
       "            </script>\n",
       "        "
      ],
      "text/plain": [
       "<irprimer.Wavelengths at 0x7fa71c1710b8>"
      ]
     },
     "execution_count": 3,
     "metadata": {},
     "output_type": "execute_result"
    }
   ],
   "source": [
    "Wavelengths()"
   ]
  },
  {
   "cell_type": "markdown",
   "metadata": {
    "slideshow": {
     "slide_type": "slide"
    }
   },
   "source": [
    "# Planck's Law\n",
    "\n",
    "The EM modes exist with only discrete energies that are multiples of $hv$, where $h$ is Planck's constant and $v$ is frequency.\n",
    "\n",
    "> $$\n",
    "I(\\lambda,T) =\n",
    "\\frac{2 hc^2}{\\lambda^5}\\frac{1}{ e^{\\frac{hc}{\\lambda kT}}-1}\n",
    "$$\n",
    "\n",
    "# Wien's Law\n",
    "\n",
    "It can be shown that the wavelength maximum for any temperature is\n",
    "\n",
    "> $${\\lambda{max}}{\\cdot}{T}=2898{\\mu}m-K$$"
   ]
  },
  {
   "cell_type": "code",
   "execution_count": 4,
   "metadata": {
    "collapsed": false,
    "slideshow": {
     "slide_type": "subslide"
    }
   },
   "outputs": [
    {
     "data": {
      "text/html": [
       "\n",
       "            <style>@import url(\"./dist/planck.css\");</style>\n",
       "            <div id=\"planck-05126181015550224\"></div>\n",
       "            <script>\n",
       "                require(\n",
       "                    [\n",
       "                        \"./dist/planck.js\",\n",
       "                        \"./dist/ipython-explanation.js\",\n",
       "                        \"./dist/bower_components/d3/d3.min.js\",\n",
       "                        \"jquery\"\n",
       "                    ],\n",
       "                    function(Explanation, Loader, d3, $){{\n",
       "                        Loader(\"planck-05126181015550224\", Explanation, d3, $);\n",
       "                    }}\n",
       "                );\n",
       "            </script>\n",
       "        "
      ],
      "text/plain": [
       "<irprimer.Planck at 0x7fa71c171860>"
      ]
     },
     "execution_count": 4,
     "metadata": {},
     "output_type": "execute_result"
    }
   ],
   "source": [
    "Planck()"
   ]
  },
  {
   "cell_type": "markdown",
   "metadata": {
    "slideshow": {
     "slide_type": "slide"
    }
   },
   "source": [
    "# Refraction"
   ]
  },
  {
   "cell_type": "markdown",
   "metadata": {
    "slideshow": {
     "slide_type": "slide"
    }
   },
   "source": [
    "# Fresnel"
   ]
  },
  {
   "cell_type": "code",
   "execution_count": 5,
   "metadata": {
    "collapsed": false,
    "slideshow": {
     "slide_type": "subslide"
    }
   },
   "outputs": [
    {
     "data": {
      "text/html": [
       "\n",
       "            <style>@import url(\"./dist/fresnel.css\");</style>\n",
       "            <div id=\"fresnel-11365650569262253\"></div>\n",
       "            <script>\n",
       "                require(\n",
       "                    [\n",
       "                        \"./dist/fresnel.js\",\n",
       "                        \"./dist/ipython-explanation.js\",\n",
       "                        \"./dist/bower_components/d3/d3.min.js\",\n",
       "                        \"jquery\"\n",
       "                    ],\n",
       "                    function(Explanation, Loader, d3, $){{\n",
       "                        Loader(\"fresnel-11365650569262253\", Explanation, d3, $);\n",
       "                    }}\n",
       "                );\n",
       "            </script>\n",
       "        "
      ],
      "text/plain": [
       "<irprimer.Fresnel at 0x7fa71c171080>"
      ]
     },
     "execution_count": 5,
     "metadata": {},
     "output_type": "execute_result"
    }
   ],
   "source": [
    "Fresnel()"
   ]
  },
  {
   "cell_type": "markdown",
   "metadata": {
    "slideshow": {
     "slide_type": "slide"
    }
   },
   "source": [
    "# Temperature & Density"
   ]
  },
  {
   "cell_type": "code",
   "execution_count": 6,
   "metadata": {
    "collapsed": false,
    "slideshow": {
     "slide_type": "subslide"
    }
   },
   "outputs": [
    {
     "data": {
      "text/html": [
       "\n",
       "            <style>@import url(\"./dist/density.css\");</style>\n",
       "            <div id=\"density-760552186816882\"></div>\n",
       "            <script>\n",
       "                require(\n",
       "                    [\n",
       "                        \"./dist/density.js\",\n",
       "                        \"./dist/ipython-explanation.js\",\n",
       "                        \"./dist/bower_components/d3/d3.min.js\",\n",
       "                        \"jquery\"\n",
       "                    ],\n",
       "                    function(Explanation, Loader, d3, $){{\n",
       "                        Loader(\"density-760552186816882\", Explanation, d3, $);\n",
       "                    }}\n",
       "                );\n",
       "            </script>\n",
       "        "
      ],
      "text/plain": [
       "<irprimer.Density at 0x7fa71c171198>"
      ]
     },
     "execution_count": 6,
     "metadata": {},
     "output_type": "execute_result"
    }
   ],
   "source": [
    "Density()"
   ]
  },
  {
   "cell_type": "code",
   "execution_count": 7,
   "metadata": {
    "collapsed": false,
    "slideshow": {
     "slide_type": "skip"
    }
   },
   "outputs": [],
   "source": [
    "slides()"
   ]
  }
 ],
 "metadata": {
  "celltoolbar": "Slideshow",
  "kernelspec": {
   "display_name": "Python 3",
   "language": "python",
   "name": "python3"
  },
  "language_info": {
   "codemirror_mode": {
    "name": "ipython",
    "version": 3
   },
   "file_extension": ".py",
   "mimetype": "text/x-python",
   "name": "python",
   "nbconvert_exporter": "python",
   "pygments_lexer": "ipython3",
   "version": "3.4.2"
  }
 },
 "nbformat": 4,
 "nbformat_minor": 0
}
