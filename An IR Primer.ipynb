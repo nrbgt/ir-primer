{
 "cells": [
  {
   "cell_type": "code",
   "execution_count": 1,
   "metadata": {
    "collapsed": false,
    "slideshow": {
     "slide_type": "skip"
    }
   },
   "outputs": [],
   "source": [
    "from irprimer import planck, slides"
   ]
  },
  {
   "cell_type": "markdown",
   "metadata": {
    "slideshow": {
     "slide_type": "slide"
    }
   },
   "source": [
    "# An IR Primer"
   ]
  },
  {
   "cell_type": "code",
   "execution_count": 2,
   "metadata": {
    "collapsed": false,
    "slideshow": {
     "slide_type": "slide"
    }
   },
   "outputs": [
    {
     "data": {
      "text/html": [
       "\n",
       "        <style>\n",
       "            @import url(\"planck.css\");\n",
       "            #planck-33896973645426587{\n",
       "                background-color: white;\n",
       "\n",
       "            }\n",
       "            .reveal #planck-33896973645426587 {\n",
       "                margin-top: -200px;\n",
       "                margin-left: -300px;\n",
       "            }\n",
       "        </style>\n",
       "        <div id=\"planck-33896973645426587\" class=\"stretch\"></div>\n",
       "        <script>\n",
       "            require([\"./bower_components/d3/d3.min.js\", \"./planck.js\"],\n",
       "                function(d3, Planck){\n",
       "                    var planck = Planck(d3);\n",
       "                    d3.select(\"#planck-33896973645426587\")\n",
       "                        .style({\n",
       "                            \"background-color\": \"white\",\n",
       "                            width: window.innerWidth * 0.9 + \"px\",\n",
       "                            height: window.innerHeight * 0.9 + \"px\",\n",
       "                        })\n",
       "                        .call(planck)\n",
       "                });\n",
       "        </script>\n",
       "\n",
       "    "
      ],
      "text/plain": [
       "<IPython.core.display.HTML object>"
      ]
     },
     "execution_count": 2,
     "metadata": {},
     "output_type": "execute_result"
    }
   ],
   "source": [
    "planck()"
   ]
  },
  {
   "cell_type": "code",
   "execution_count": 3,
   "metadata": {
    "collapsed": false,
    "slideshow": {
     "slide_type": "skip"
    }
   },
   "outputs": [],
   "source": [
    "slides()"
   ]
  }
 ],
 "metadata": {
  "celltoolbar": "Slideshow",
  "kernelspec": {
   "display_name": "Python 3",
   "language": "python",
   "name": "python3"
  },
  "language_info": {
   "codemirror_mode": {
    "name": "ipython",
    "version": 3
   },
   "file_extension": ".py",
   "mimetype": "text/x-python",
   "name": "python",
   "nbconvert_exporter": "python",
   "pygments_lexer": "ipython3",
   "version": "3.4.2"
  }
 },
 "nbformat": 4,
 "nbformat_minor": 0
}
